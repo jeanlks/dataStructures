{
 "cells": [
  {
   "cell_type": "code",
   "execution_count": 27,
   "metadata": {},
   "outputs": [],
   "source": [
    "class Node: \n",
    "    def __init__(self, value):\n",
    "        self.value = value\n",
    "        self.left = None\n",
    "        self. right = None\n",
    "class BST:\n",
    "    def __init__(self):\n",
    "        self.root = None\n",
    "    \n",
    "    def get_root(self):\n",
    "        return self.root\n",
    "    \n",
    "    def insert(self, value):\n",
    "        if self.root == None:\n",
    "            self.root = Node(value)\n",
    "        else:\n",
    "            self.insert_node(self.root, value)\n",
    "            \n",
    "    def insert_node(self, node, value):\n",
    "        if value < node.value:\n",
    "            if node.left != None:\n",
    "                self.insert_node(node.left, value)\n",
    "            else: node.left = Node(value)\n",
    "        else: \n",
    "            if node.right != None:\n",
    "                self.insert_node(node.right, value)\n",
    "            else: node.right = Node(value)\n",
    "    \n",
    "    def get_height(self, node):\n",
    "        if node == None:\n",
    "            return 0\n",
    "        else:\n",
    "            left = self.get_height(node.left) + 1\n",
    "            right = self.get_height(node.right) + 1\n",
    "            if right > left:\n",
    "                return right\n",
    "            else: return left\n",
    "            \n",
    "        return self.get_height(node.left) + self.get_height(node.right) + 1;\n",
    "    \n",
    "    def print_in_order(self, root):\n",
    "        if root != None:\n",
    "            self.print_in_order(root.left)\n",
    "            print(root.value)\n",
    "            self.print_in_order(root.right)"
   ]
  },
  {
   "cell_type": "code",
   "execution_count": 28,
   "metadata": {},
   "outputs": [],
   "source": [
    "bst = BST()"
   ]
  },
  {
   "cell_type": "code",
   "execution_count": 29,
   "metadata": {},
   "outputs": [],
   "source": [
    "bst.insert(1)\n",
    "bst.insert(2)\n",
    "bst.insert(3)\n",
    "bst.insert(4)"
   ]
  },
  {
   "cell_type": "code",
   "execution_count": 30,
   "metadata": {},
   "outputs": [
    {
     "name": "stdout",
     "output_type": "stream",
     "text": [
      "1\n",
      "2\n",
      "3\n",
      "4\n"
     ]
    }
   ],
   "source": [
    "bst.print_in_order(bst.get_root())"
   ]
  },
  {
   "cell_type": "code",
   "execution_count": 31,
   "metadata": {},
   "outputs": [
    {
     "data": {
      "text/plain": [
       "4"
      ]
     },
     "execution_count": 31,
     "metadata": {},
     "output_type": "execute_result"
    }
   ],
   "source": [
    "bst.get_height(bst.root)"
   ]
  },
  {
   "cell_type": "code",
   "execution_count": null,
   "metadata": {},
   "outputs": [],
   "source": []
  }
 ],
 "metadata": {
  "kernelspec": {
   "display_name": "Python 3",
   "language": "python",
   "name": "python3"
  },
  "language_info": {
   "codemirror_mode": {
    "name": "ipython",
    "version": 3
   },
   "file_extension": ".py",
   "mimetype": "text/x-python",
   "name": "python",
   "nbconvert_exporter": "python",
   "pygments_lexer": "ipython3",
   "version": "3.7.0"
  }
 },
 "nbformat": 4,
 "nbformat_minor": 2
}
