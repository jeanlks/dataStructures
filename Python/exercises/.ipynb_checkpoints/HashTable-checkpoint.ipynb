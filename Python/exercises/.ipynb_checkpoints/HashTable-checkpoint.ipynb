{
 "cells": [
  {
   "cell_type": "code",
   "execution_count": 33,
   "metadata": {},
   "outputs": [],
   "source": [
    "class HashTable:\n",
    "    def __init__(self, size):\n",
    "        self.hash = [[] for _ in range(size)]\n",
    "    \n",
    "    def insert(self, value):\n",
    "        key = self.find_key(value)\n",
    "        self.hash[key].append(value)\n",
    "        \n",
    "    def find_key(self, value):\n",
    "        return value % len(self.hash)\n",
    "    \n",
    "    def get_all(self):\n",
    "        return self.hash\n",
    "    \n",
    "    def search(self, n):\n",
    "        key = self.find_key(n)\n",
    "        bucket = self.hash[key]\n",
    "        \n",
    "        for key, value in enumerate(bucket):\n",
    "            if value == n:\n",
    "                return True\n",
    "                break;\n",
    "        return False\n",
    "    \n",
    "    def delete(self, value):\n",
    "        "
   ]
  },
  {
   "cell_type": "code",
   "execution_count": 34,
   "metadata": {},
   "outputs": [],
   "source": [
    "test = HashTable(3)"
   ]
  },
  {
   "cell_type": "code",
   "execution_count": 35,
   "metadata": {},
   "outputs": [],
   "source": [
    "test.insert(10)\n",
    "test.insert(11)\n",
    "test.insert(5)\n",
    "test.insert(12)\n",
    "test.insert(7)\n",
    "test.insert(29)"
   ]
  },
  {
   "cell_type": "code",
   "execution_count": 36,
   "metadata": {},
   "outputs": [
    {
     "data": {
      "text/plain": [
       "[[12], [10, 7], [11, 5, 29]]"
      ]
     },
     "execution_count": 36,
     "metadata": {},
     "output_type": "execute_result"
    }
   ],
   "source": [
    "test.get_all()"
   ]
  },
  {
   "cell_type": "code",
   "execution_count": 37,
   "metadata": {},
   "outputs": [
    {
     "data": {
      "text/plain": [
       "False"
      ]
     },
     "execution_count": 37,
     "metadata": {},
     "output_type": "execute_result"
    }
   ],
   "source": [
    "test.search(15)"
   ]
  },
  {
   "cell_type": "code",
   "execution_count": 38,
   "metadata": {},
   "outputs": [
    {
     "data": {
      "text/plain": [
       "True"
      ]
     },
     "execution_count": 38,
     "metadata": {},
     "output_type": "execute_result"
    }
   ],
   "source": [
    "test.search(12)"
   ]
  },
  {
   "cell_type": "code",
   "execution_count": null,
   "metadata": {},
   "outputs": [],
   "source": []
  }
 ],
 "metadata": {
  "kernelspec": {
   "display_name": "Python 3",
   "language": "python",
   "name": "python3"
  },
  "language_info": {
   "codemirror_mode": {
    "name": "ipython",
    "version": 3
   },
   "file_extension": ".py",
   "mimetype": "text/x-python",
   "name": "python",
   "nbconvert_exporter": "python",
   "pygments_lexer": "ipython3",
   "version": "3.7.0"
  }
 },
 "nbformat": 4,
 "nbformat_minor": 2
}
