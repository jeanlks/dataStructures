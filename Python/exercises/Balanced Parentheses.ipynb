{
 "cells": [
  {
   "cell_type": "code",
   "execution_count": 21,
   "metadata": {},
   "outputs": [],
   "source": [
    "class Stack(object):\n",
    "    def __init__(self):\n",
    "        self.items = []\n",
    "    \n",
    "    def is_empty(self):\n",
    "        return len(self.items) == 0\n",
    "    \n",
    "    def push(self, num):\n",
    "        self.items.append(num)\n",
    "        \n",
    "    def pop(self):\n",
    "        num = self.items[-1]\n",
    "        self.items = self.items[:-1]\n",
    "        return num\n",
    "    \n",
    "    def pick(self):\n",
    "        return self.items[-1]\n",
    "    \n",
    "    def getItems(self):\n",
    "        return self.items"
   ]
  },
  {
   "cell_type": "code",
   "execution_count": 40,
   "metadata": {},
   "outputs": [],
   "source": [
    "def balance_check(s):\n",
    "    stack = Stack()\n",
    "    matches = set([('(',')'),('[',']'),('{','}')])\n",
    "    for char in s:\n",
    "        if char in ['[', '(', '{']:\n",
    "            stack.push(char)\n",
    "        elif char in [']', ')', '}']:\n",
    "            if stack.is_empty == True: return False\n",
    "            last_open = stack.pop()\n",
    "            if (last_open, char) not in matches:\n",
    "                return False\n",
    "            \n",
    "    return stack.is_empty()"
   ]
  },
  {
   "cell_type": "code",
   "execution_count": 41,
   "metadata": {},
   "outputs": [],
   "source": [
    "from nose.tools import assert_equals\n",
    "\n",
    "class TestBalanceCheck(object):\n",
    "    \n",
    "    def test(self,sol):\n",
    "        assert_equal(sol('[](){([[[]]])}'), True)\n",
    "        assert_equal(sol('[[]{}(()]'),False)\n",
    "        assert_equal(sol('[[][]'),False)\n",
    "        assert_equal(sol('[[][]]'),True)\n",
    "        assert_equal(sol('[}'),False)\n",
    "t = TestBalanceCheck()\n",
    "t.test(balance_check)"
   ]
  },
  {
   "cell_type": "code",
   "execution_count": 44,
   "metadata": {},
   "outputs": [
    {
     "data": {
      "text/plain": [
       "True"
      ]
     },
     "execution_count": 44,
     "metadata": {},
     "output_type": "execute_result"
    }
   ],
   "source": [
    "balance_check('[test]{}')"
   ]
  },
  {
   "cell_type": "code",
   "execution_count": null,
   "metadata": {},
   "outputs": [],
   "source": []
  }
 ],
 "metadata": {
  "kernelspec": {
   "display_name": "Python 3",
   "language": "python",
   "name": "python3"
  },
  "language_info": {
   "codemirror_mode": {
    "name": "ipython",
    "version": 3
   },
   "file_extension": ".py",
   "mimetype": "text/x-python",
   "name": "python",
   "nbconvert_exporter": "python",
   "pygments_lexer": "ipython3",
   "version": "3.6.4"
  }
 },
 "nbformat": 4,
 "nbformat_minor": 2
}
