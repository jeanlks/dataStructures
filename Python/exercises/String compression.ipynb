{
 "cells": [
  {
   "cell_type": "code",
   "execution_count": 16,
   "metadata": {},
   "outputs": [],
   "source": [
    "def compress_jean(s):\n",
    "    final_str = ''\n",
    "    dic_str = {}\n",
    "    for char in s:\n",
    "        if char not in dic_str:\n",
    "            dic_str[char] = 1\n",
    "        else:\n",
    "            dic_str[char] +=1 \n",
    "            \n",
    "    for key,value in dic_str.items():\n",
    "        final_str += '{}{}'.format(key,value)\n",
    "    return final_str"
   ]
  },
  {
   "cell_type": "code",
   "execution_count": 43,
   "metadata": {},
   "outputs": [],
   "source": [
    "def compress(s):\n",
    "    r = ''\n",
    "    l = len(s)\n",
    "    \n",
    "    if l == 0:\n",
    "        return ''\n",
    "    \n",
    "    if l == 1:\n",
    "        return s+\"1\"\n",
    "    \n",
    "    last = s[0]\n",
    "    cnt = 1\n",
    "    i = 1\n",
    "    \n",
    "    while i < l:\n",
    "        if s[i] == s[i-1]:\n",
    "            cnt +=1\n",
    "        else: \n",
    "            r = r + s[i-1] + str(cnt)\n",
    "            cnt = 1\n",
    "        \n",
    "        i +=1\n",
    "        \n",
    "    r = r + s[i-1] + str(cnt)\n",
    "    return r\n",
    "        "
   ]
  },
  {
   "cell_type": "code",
   "execution_count": 30,
   "metadata": {},
   "outputs": [
    {
     "name": "stdout",
     "output_type": "stream",
     "text": [
      "ALL TEST CASES PASSED\n"
     ]
    }
   ],
   "source": [
    "from nose.tools import assert_equal\n",
    "class TestCompress(object):\n",
    "    def test(self, sol):\n",
    "        assert_equal(sol(''),'')\n",
    "        assert_equal(sol('AABBCC'),'A2B2C2')\n",
    "        assert_equal(sol('AAABCCDDDDD'),'A3B1C2D5')\n",
    "        assert_equal(sol('AAABCCccDDDDD'),'A3B1C2c2D5')\n",
    "        print('ALL TEST CASES PASSED')\n",
    "    \n",
    "t = TestCompress()\n",
    "t.test(compress_jean)"
   ]
  },
  {
   "cell_type": "code",
   "execution_count": 39,
   "metadata": {},
   "outputs": [
    {
     "data": {
      "text/plain": [
       "'A2B2C2c2'"
      ]
     },
     "execution_count": 39,
     "metadata": {},
     "output_type": "execute_result"
    }
   ],
   "source": [
    "compress_jean('AABBCCcc')"
   ]
  },
  {
   "cell_type": "code",
   "execution_count": 46,
   "metadata": {},
   "outputs": [
    {
     "data": {
      "text/plain": [
       "'A2B2C2c1'"
      ]
     },
     "execution_count": 46,
     "metadata": {},
     "output_type": "execute_result"
    }
   ],
   "source": [
    "compress('AABBCCc')"
   ]
  },
  {
   "cell_type": "code",
   "execution_count": null,
   "metadata": {},
   "outputs": [],
   "source": []
  }
 ],
 "metadata": {
  "kernelspec": {
   "display_name": "Python 3",
   "language": "python",
   "name": "python3"
  },
  "language_info": {
   "codemirror_mode": {
    "name": "ipython",
    "version": 3
   },
   "file_extension": ".py",
   "mimetype": "text/x-python",
   "name": "python",
   "nbconvert_exporter": "python",
   "pygments_lexer": "ipython3",
   "version": "3.6.4"
  }
 },
 "nbformat": 4,
 "nbformat_minor": 2
}
